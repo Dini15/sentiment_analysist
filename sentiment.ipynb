{
 "cells": [
  {
   "cell_type": "markdown",
   "id": "fc62c745",
   "metadata": {},
   "source": [
    "# Import Libraries"
   ]
  },
  {
   "cell_type": "code",
   "execution_count": 87,
   "id": "7eb2e840",
   "metadata": {},
   "outputs": [
    {
     "name": "stderr",
     "output_type": "stream",
     "text": [
      "[nltk_data] Downloading package punkt to C:\\Users\\Dini\n",
      "[nltk_data]     Qaribullah\\AppData\\Roaming\\nltk_data...\n",
      "[nltk_data]   Package punkt is already up-to-date!\n",
      "[nltk_data] Downloading package stopwords to C:\\Users\\Dini\n",
      "[nltk_data]     Qaribullah\\AppData\\Roaming\\nltk_data...\n",
      "[nltk_data]   Package stopwords is already up-to-date!\n",
      "[nltk_data] Downloading package wordnet to C:\\Users\\Dini\n",
      "[nltk_data]     Qaribullah\\AppData\\Roaming\\nltk_data...\n",
      "[nltk_data]   Package wordnet is already up-to-date!\n"
     ]
    }
   ],
   "source": [
    "import pandas as pd\n",
    "import kagglehub\n",
    "\n",
    "#visualization\n",
    "import matplotlib.pyplot as plt\n",
    "import seaborn as sns\n",
    "\n",
    "#preprocessing task\n",
    "import nltk\n",
    "import string\n",
    "from nltk.corpus import stopwords\n",
    "from nltk.tokenize import word_tokenize\n",
    "from nltk.stem import WordNetLemmatizer\n",
    "nltk.download('punkt')\n",
    "nltk.download('stopwords')\n",
    "nltk.download('wordnet')\n",
    "\n",
    "#tfidf\n",
    "from sklearn.feature_extraction.text import TfidfVectorizer\n",
    "#Encode Label\n",
    "from sklearn.preprocessing import LabelEncoder\n",
    "#Train-test split\n",
    "from sklearn.model_selection import train_test_split\n",
    "#Train model\n",
    "from sklearn.linear_model import LinearRegression\n",
    "from sklearn.linear_model import LogisticRegression\n",
    "from sklearn.naive_bayes import MultinomialNB\n",
    "from sklearn.ensemble import RandomForestClassifier\n",
    "from sklearn.svm import LinearSVC\n",
    "from sklearn.metrics import confusion_matrix, ConfusionMatrixDisplay\n",
    "from sklearn.metrics import classification_report, accuracy_score\n",
    "\n",
    "#save model\n",
    "import pickle"
   ]
  },
  {
   "cell_type": "code",
   "execution_count": 4,
   "id": "1d716ee0",
   "metadata": {},
   "outputs": [
    {
     "name": "stdout",
     "output_type": "stream",
     "text": [
      "Downloading from https://www.kaggle.com/api/v1/datasets/download/clovisdalmolinvieira/news-sentiment-analysis?dataset_version_number=1...\n"
     ]
    },
    {
     "name": "stderr",
     "output_type": "stream",
     "text": [
      "100%|██████████| 655k/655k [00:01<00:00, 634kB/s]"
     ]
    },
    {
     "name": "stdout",
     "output_type": "stream",
     "text": [
      "Extracting files...\n",
      "Path to dataset files: C:\\Users\\Dini Qaribullah\\.cache\\kagglehub\\datasets\\clovisdalmolinvieira\\news-sentiment-analysis\\versions\\1\n"
     ]
    },
    {
     "name": "stderr",
     "output_type": "stream",
     "text": [
      "\n"
     ]
    }
   ],
   "source": [
    "# Download latest version\n",
    "path = kagglehub.dataset_download(\"clovisdalmolinvieira/news-sentiment-analysis\")\n",
    "\n",
    "print(\"Path to dataset files:\", path)"
   ]
  },
  {
   "cell_type": "markdown",
   "id": "a849ad3c",
   "metadata": {},
   "source": [
    "# Load Data"
   ]
  },
  {
   "cell_type": "code",
   "execution_count": 5,
   "id": "4701bd3c",
   "metadata": {},
   "outputs": [
    {
     "data": {
      "text/html": [
       "<div>\n",
       "<style scoped>\n",
       "    .dataframe tbody tr th:only-of-type {\n",
       "        vertical-align: middle;\n",
       "    }\n",
       "\n",
       "    .dataframe tbody tr th {\n",
       "        vertical-align: top;\n",
       "    }\n",
       "\n",
       "    .dataframe thead th {\n",
       "        text-align: right;\n",
       "    }\n",
       "</style>\n",
       "<table border=\"1\" class=\"dataframe\">\n",
       "  <thead>\n",
       "    <tr style=\"text-align: right;\">\n",
       "      <th></th>\n",
       "      <th>Source</th>\n",
       "      <th>Author</th>\n",
       "      <th>Title</th>\n",
       "      <th>Description</th>\n",
       "      <th>URL</th>\n",
       "      <th>Published At</th>\n",
       "      <th>Sentiment</th>\n",
       "      <th>Type</th>\n",
       "    </tr>\n",
       "  </thead>\n",
       "  <tbody>\n",
       "    <tr>\n",
       "      <th>0</th>\n",
       "      <td>stgnews</td>\n",
       "      <td>Bridger Palmer</td>\n",
       "      <td>Pine View High teacher wins Best in State awar...</td>\n",
       "      <td>ST. GEORGE — Kaitlyn Larson, a first-year teac...</td>\n",
       "      <td>https://www.stgeorgeutah.com/news/archive/2024...</td>\n",
       "      <td>2024-07-12T23:45:25+00:00</td>\n",
       "      <td>positive</td>\n",
       "      <td>Business</td>\n",
       "    </tr>\n",
       "    <tr>\n",
       "      <th>1</th>\n",
       "      <td>Zimbabwe Mail</td>\n",
       "      <td>Staff Reporter</td>\n",
       "      <td>Businesses Face Financial Strain Amid Liquidit...</td>\n",
       "      <td>Harare, Zimbabwe – Local businesses are grappl...</td>\n",
       "      <td>https://www.thezimbabwemail.com/business/busin...</td>\n",
       "      <td>2024-07-12T22:59:42+00:00</td>\n",
       "      <td>neutral</td>\n",
       "      <td>Business</td>\n",
       "    </tr>\n",
       "    <tr>\n",
       "      <th>2</th>\n",
       "      <td>4-traders</td>\n",
       "      <td>NaN</td>\n",
       "      <td>Musk donates to super pac working to elect Tru...</td>\n",
       "      <td>(marketscreener.com) Billionaire Elon Musk has...</td>\n",
       "      <td>https://www.marketscreener.com/business-leader...</td>\n",
       "      <td>2024-07-12T22:52:55+00:00</td>\n",
       "      <td>positive</td>\n",
       "      <td>Business</td>\n",
       "    </tr>\n",
       "    <tr>\n",
       "      <th>3</th>\n",
       "      <td>4-traders</td>\n",
       "      <td>NaN</td>\n",
       "      <td>US FTC issues warning to franchisors over unfa...</td>\n",
       "      <td>(marketscreener.com) A U.S. trade regulator on...</td>\n",
       "      <td>https://www.marketscreener.com/quote/stock/MCD...</td>\n",
       "      <td>2024-07-12T22:41:01+00:00</td>\n",
       "      <td>negative</td>\n",
       "      <td>Business</td>\n",
       "    </tr>\n",
       "    <tr>\n",
       "      <th>4</th>\n",
       "      <td>PLANET</td>\n",
       "      <td>NaN</td>\n",
       "      <td>Rooftop solar's dark side</td>\n",
       "      <td>4.5 million households in the U.S. have solar ...</td>\n",
       "      <td>https://www.npr.org/2024/07/12/1197961036/roof...</td>\n",
       "      <td>2024-07-12T22:28:19+00:00</td>\n",
       "      <td>positive</td>\n",
       "      <td>Business</td>\n",
       "    </tr>\n",
       "    <tr>\n",
       "      <th>...</th>\n",
       "      <td>...</td>\n",
       "      <td>...</td>\n",
       "      <td>...</td>\n",
       "      <td>...</td>\n",
       "      <td>...</td>\n",
       "      <td>...</td>\n",
       "      <td>...</td>\n",
       "      <td>...</td>\n",
       "    </tr>\n",
       "    <tr>\n",
       "      <th>3495</th>\n",
       "      <td>etfdailynews</td>\n",
       "      <td>MarketBeat News</td>\n",
       "      <td>Arrow Electronics, Inc. (NYSE:ARW) Shares Purc...</td>\n",
       "      <td>QRG Capital Management Inc. increased its stak...</td>\n",
       "      <td>https://www.etfdailynews.com/2024/07/18/arrow-...</td>\n",
       "      <td>2024-07-18T14:36:45+00:00</td>\n",
       "      <td>positive</td>\n",
       "      <td>Technology</td>\n",
       "    </tr>\n",
       "    <tr>\n",
       "      <th>3496</th>\n",
       "      <td>etfdailynews</td>\n",
       "      <td>MarketBeat News</td>\n",
       "      <td>3,120 Shares in NICE Ltd. (NASDAQ:NICE) Bought...</td>\n",
       "      <td>QRG Capital Management Inc. bought a new posit...</td>\n",
       "      <td>https://www.etfdailynews.com/2024/07/18/3120-s...</td>\n",
       "      <td>2024-07-18T14:36:44+00:00</td>\n",
       "      <td>positive</td>\n",
       "      <td>Technology</td>\n",
       "    </tr>\n",
       "    <tr>\n",
       "      <th>3497</th>\n",
       "      <td>etfdailynews</td>\n",
       "      <td>MarketBeat News</td>\n",
       "      <td>QRG Capital Management Inc. Has $857,000 Stock...</td>\n",
       "      <td>QRG Capital Management Inc. boosted its stake ...</td>\n",
       "      <td>https://www.etfdailynews.com/2024/07/18/qrg-ca...</td>\n",
       "      <td>2024-07-18T14:36:43+00:00</td>\n",
       "      <td>positive</td>\n",
       "      <td>Technology</td>\n",
       "    </tr>\n",
       "    <tr>\n",
       "      <th>3498</th>\n",
       "      <td>finanznachrichten</td>\n",
       "      <td>NaN</td>\n",
       "      <td>Biotechnology Market: Surging Investments and ...</td>\n",
       "      <td>WESTFORD, Mass., July 18, 2024 /PRNewswire/ --...</td>\n",
       "      <td>https://www.finanznachrichten.de/nachrichten-2...</td>\n",
       "      <td>2024-07-18T14:36:00+00:00</td>\n",
       "      <td>neutral</td>\n",
       "      <td>Technology</td>\n",
       "    </tr>\n",
       "    <tr>\n",
       "      <th>3499</th>\n",
       "      <td>etfdailynews</td>\n",
       "      <td>MarketBeat News</td>\n",
       "      <td>QRG Capital Management Inc. Sells 1,665 Shares...</td>\n",
       "      <td>QRG Capital Management Inc. reduced its holdin...</td>\n",
       "      <td>https://www.etfdailynews.com/2024/07/18/qrg-ca...</td>\n",
       "      <td>2024-07-18T14:32:46+00:00</td>\n",
       "      <td>positive</td>\n",
       "      <td>Technology</td>\n",
       "    </tr>\n",
       "  </tbody>\n",
       "</table>\n",
       "<p>3500 rows × 8 columns</p>\n",
       "</div>"
      ],
      "text/plain": [
       "                 Source           Author  \\\n",
       "0               stgnews   Bridger Palmer   \n",
       "1         Zimbabwe Mail   Staff Reporter   \n",
       "2             4-traders              NaN   \n",
       "3             4-traders              NaN   \n",
       "4                PLANET              NaN   \n",
       "...                 ...              ...   \n",
       "3495       etfdailynews  MarketBeat News   \n",
       "3496       etfdailynews  MarketBeat News   \n",
       "3497       etfdailynews  MarketBeat News   \n",
       "3498  finanznachrichten              NaN   \n",
       "3499       etfdailynews  MarketBeat News   \n",
       "\n",
       "                                                  Title  \\\n",
       "0     Pine View High teacher wins Best in State awar...   \n",
       "1     Businesses Face Financial Strain Amid Liquidit...   \n",
       "2     Musk donates to super pac working to elect Tru...   \n",
       "3     US FTC issues warning to franchisors over unfa...   \n",
       "4                             Rooftop solar's dark side   \n",
       "...                                                 ...   \n",
       "3495  Arrow Electronics, Inc. (NYSE:ARW) Shares Purc...   \n",
       "3496  3,120 Shares in NICE Ltd. (NASDAQ:NICE) Bought...   \n",
       "3497  QRG Capital Management Inc. Has $857,000 Stock...   \n",
       "3498  Biotechnology Market: Surging Investments and ...   \n",
       "3499  QRG Capital Management Inc. Sells 1,665 Shares...   \n",
       "\n",
       "                                            Description  \\\n",
       "0     ST. GEORGE — Kaitlyn Larson, a first-year teac...   \n",
       "1     Harare, Zimbabwe – Local businesses are grappl...   \n",
       "2     (marketscreener.com) Billionaire Elon Musk has...   \n",
       "3     (marketscreener.com) A U.S. trade regulator on...   \n",
       "4     4.5 million households in the U.S. have solar ...   \n",
       "...                                                 ...   \n",
       "3495  QRG Capital Management Inc. increased its stak...   \n",
       "3496  QRG Capital Management Inc. bought a new posit...   \n",
       "3497  QRG Capital Management Inc. boosted its stake ...   \n",
       "3498  WESTFORD, Mass., July 18, 2024 /PRNewswire/ --...   \n",
       "3499  QRG Capital Management Inc. reduced its holdin...   \n",
       "\n",
       "                                                    URL  \\\n",
       "0     https://www.stgeorgeutah.com/news/archive/2024...   \n",
       "1     https://www.thezimbabwemail.com/business/busin...   \n",
       "2     https://www.marketscreener.com/business-leader...   \n",
       "3     https://www.marketscreener.com/quote/stock/MCD...   \n",
       "4     https://www.npr.org/2024/07/12/1197961036/roof...   \n",
       "...                                                 ...   \n",
       "3495  https://www.etfdailynews.com/2024/07/18/arrow-...   \n",
       "3496  https://www.etfdailynews.com/2024/07/18/3120-s...   \n",
       "3497  https://www.etfdailynews.com/2024/07/18/qrg-ca...   \n",
       "3498  https://www.finanznachrichten.de/nachrichten-2...   \n",
       "3499  https://www.etfdailynews.com/2024/07/18/qrg-ca...   \n",
       "\n",
       "                   Published At Sentiment        Type  \n",
       "0     2024-07-12T23:45:25+00:00  positive    Business  \n",
       "1     2024-07-12T22:59:42+00:00   neutral    Business  \n",
       "2     2024-07-12T22:52:55+00:00  positive    Business  \n",
       "3     2024-07-12T22:41:01+00:00  negative    Business  \n",
       "4     2024-07-12T22:28:19+00:00  positive    Business  \n",
       "...                         ...       ...         ...  \n",
       "3495  2024-07-18T14:36:45+00:00  positive  Technology  \n",
       "3496  2024-07-18T14:36:44+00:00  positive  Technology  \n",
       "3497  2024-07-18T14:36:43+00:00  positive  Technology  \n",
       "3498  2024-07-18T14:36:00+00:00   neutral  Technology  \n",
       "3499  2024-07-18T14:32:46+00:00  positive  Technology  \n",
       "\n",
       "[3500 rows x 8 columns]"
      ]
     },
     "execution_count": 5,
     "metadata": {},
     "output_type": "execute_result"
    }
   ],
   "source": [
    "df = pd.read_csv('news_sentiment_analysis.csv')\n",
    "df"
   ]
  },
  {
   "cell_type": "code",
   "execution_count": 60,
   "id": "7cd4360b",
   "metadata": {},
   "outputs": [
    {
     "data": {
      "text/plain": [
       "Source               0\n",
       "Author               0\n",
       "Title                0\n",
       "Description          0\n",
       "URL                  0\n",
       "Published At         0\n",
       "Sentiment            0\n",
       "Type                 0\n",
       "clean_description    0\n",
       "dtype: int64"
      ]
     },
     "execution_count": 60,
     "metadata": {},
     "output_type": "execute_result"
    }
   ],
   "source": [
    "df.isnull().sum()"
   ]
  },
  {
   "cell_type": "code",
   "execution_count": 64,
   "id": "27c1c16a",
   "metadata": {},
   "outputs": [
    {
     "data": {
      "text/plain": [
       "737"
      ]
     },
     "execution_count": 64,
     "metadata": {},
     "output_type": "execute_result"
    }
   ],
   "source": [
    "df.duplicated().sum()"
   ]
  },
  {
   "cell_type": "code",
   "execution_count": 72,
   "id": "abab6a91",
   "metadata": {},
   "outputs": [],
   "source": [
    "df = df.drop_duplicates()"
   ]
  },
  {
   "cell_type": "code",
   "execution_count": 73,
   "id": "03de165a",
   "metadata": {},
   "outputs": [
    {
     "data": {
      "text/plain": [
       "0"
      ]
     },
     "execution_count": 73,
     "metadata": {},
     "output_type": "execute_result"
    }
   ],
   "source": [
    "df.duplicated().sum()"
   ]
  },
  {
   "cell_type": "code",
   "execution_count": 74,
   "id": "4e03a9b8",
   "metadata": {},
   "outputs": [
    {
     "data": {
      "text/html": [
       "<div>\n",
       "<style scoped>\n",
       "    .dataframe tbody tr th:only-of-type {\n",
       "        vertical-align: middle;\n",
       "    }\n",
       "\n",
       "    .dataframe tbody tr th {\n",
       "        vertical-align: top;\n",
       "    }\n",
       "\n",
       "    .dataframe thead th {\n",
       "        text-align: right;\n",
       "    }\n",
       "</style>\n",
       "<table border=\"1\" class=\"dataframe\">\n",
       "  <thead>\n",
       "    <tr style=\"text-align: right;\">\n",
       "      <th></th>\n",
       "      <th>Source</th>\n",
       "      <th>Author</th>\n",
       "      <th>Title</th>\n",
       "      <th>Description</th>\n",
       "      <th>URL</th>\n",
       "      <th>Published At</th>\n",
       "      <th>Sentiment</th>\n",
       "      <th>Type</th>\n",
       "      <th>clean_description</th>\n",
       "    </tr>\n",
       "  </thead>\n",
       "  <tbody>\n",
       "  </tbody>\n",
       "</table>\n",
       "</div>"
      ],
      "text/plain": [
       "Empty DataFrame\n",
       "Columns: [Source, Author, Title, Description, URL, Published At, Sentiment, Type, clean_description]\n",
       "Index: []"
      ]
     },
     "execution_count": 74,
     "metadata": {},
     "output_type": "execute_result"
    }
   ],
   "source": [
    "df[df['Author'] == 'Bridger Palmer']"
   ]
  },
  {
   "cell_type": "code",
   "execution_count": 75,
   "id": "218eeeb8",
   "metadata": {},
   "outputs": [
    {
     "data": {
      "text/plain": [
       "array(['positive', 'neutral', 'negative'], dtype=object)"
      ]
     },
     "execution_count": 75,
     "metadata": {},
     "output_type": "execute_result"
    }
   ],
   "source": [
    "df['Sentiment'].unique()"
   ]
  },
  {
   "cell_type": "markdown",
   "id": "538cbdca",
   "metadata": {},
   "source": [
    "# Quick EDA"
   ]
  },
  {
   "cell_type": "code",
   "execution_count": 76,
   "id": "f09a8743",
   "metadata": {},
   "outputs": [
    {
     "data": {
      "text/plain": [
       "Sentiment\n",
       "positive    1683\n",
       "neutral      619\n",
       "negative     461\n",
       "Name: count, dtype: int64"
      ]
     },
     "execution_count": 76,
     "metadata": {},
     "output_type": "execute_result"
    }
   ],
   "source": [
    "a = df['Sentiment'].value_counts().sort_values(ascending=False)\n",
    "a"
   ]
  },
  {
   "cell_type": "code",
   "execution_count": 77,
   "id": "737d4ccd",
   "metadata": {},
   "outputs": [
    {
     "data": {
      "image/png": "[encoded data removed]",
      "text/plain": [
       "<Figure size 1000x600 with 1 Axes>"
      ]
     },
     "metadata": {},
     "output_type": "display_data"
    }
   ],
   "source": [
    "plt.figure(figsize=(10,6))\n",
    "a.plot(kind='barh', color='violet')\n",
    "plt.title('Sentiment Analysist Distribution')\n",
    "plt.xlabel('Counts')\n",
    "plt.ylabel('Sentiment')\n",
    "plt.tight_layout()\n",
    "plt.show()"
   ]
  },
  {
   "cell_type": "markdown",
   "id": "675eb16b",
   "metadata": {},
   "source": [
    "# Preprocessing Task"
   ]
  },
  {
   "cell_type": "markdown",
   "id": "04328928",
   "metadata": {},
   "source": [
    "Preprocessing Task aims to clean text data to easier to be processed by model including lower casing, remove punctuation, tokenization, remove stopwords, steaming and lemmatization, and rejoin words"
   ]
  },
  {
   "cell_type": "code",
   "execution_count": 78,
   "id": "4d83a928",
   "metadata": {},
   "outputs": [
    {
     "data": {
      "text/html": [
       "<div>\n",
       "<style scoped>\n",
       "    .dataframe tbody tr th:only-of-type {\n",
       "        vertical-align: middle;\n",
       "    }\n",
       "\n",
       "    .dataframe tbody tr th {\n",
       "        vertical-align: top;\n",
       "    }\n",
       "\n",
       "    .dataframe thead th {\n",
       "        text-align: right;\n",
       "    }\n",
       "</style>\n",
       "<table border=\"1\" class=\"dataframe\">\n",
       "  <thead>\n",
       "    <tr style=\"text-align: right;\">\n",
       "      <th></th>\n",
       "      <th>Source</th>\n",
       "      <th>Author</th>\n",
       "      <th>Title</th>\n",
       "      <th>Description</th>\n",
       "      <th>URL</th>\n",
       "      <th>Published At</th>\n",
       "      <th>Sentiment</th>\n",
       "      <th>Type</th>\n",
       "      <th>clean_description</th>\n",
       "    </tr>\n",
       "  </thead>\n",
       "  <tbody>\n",
       "    <tr>\n",
       "      <th>0</th>\n",
       "      <td>stgnews</td>\n",
       "      <td>bridger palmer</td>\n",
       "      <td>pine view high teacher wins best in state awar...</td>\n",
       "      <td>st. george — kaitlyn larson, a first-year teac...</td>\n",
       "      <td>https://www.stgeorgeutah.com/news/archive/2024...</td>\n",
       "      <td>2024-07-12T23:45:25+00:00</td>\n",
       "      <td>positive</td>\n",
       "      <td>Business</td>\n",
       "      <td>st george — kaitlyn larson firstyear teacher p...</td>\n",
       "    </tr>\n",
       "    <tr>\n",
       "      <th>1</th>\n",
       "      <td>Zimbabwe Mail</td>\n",
       "      <td>staff reporter</td>\n",
       "      <td>businesses face financial strain amid liquidit...</td>\n",
       "      <td>harare, zimbabwe – local businesses are grappl...</td>\n",
       "      <td>https://www.thezimbabwemail.com/business/busin...</td>\n",
       "      <td>2024-07-12T22:59:42+00:00</td>\n",
       "      <td>neutral</td>\n",
       "      <td>Business</td>\n",
       "      <td>harare zimbabwe – local business grappling sev...</td>\n",
       "    </tr>\n",
       "    <tr>\n",
       "      <th>2</th>\n",
       "      <td>4-traders</td>\n",
       "      <td></td>\n",
       "      <td>musk donates to super pac working to elect tru...</td>\n",
       "      <td>(marketscreener.com) billionaire elon musk has...</td>\n",
       "      <td>https://www.marketscreener.com/business-leader...</td>\n",
       "      <td>2024-07-12T22:52:55+00:00</td>\n",
       "      <td>positive</td>\n",
       "      <td>Business</td>\n",
       "      <td>marketscreenercom billionaire elon musk donate...</td>\n",
       "    </tr>\n",
       "    <tr>\n",
       "      <th>3</th>\n",
       "      <td>4-traders</td>\n",
       "      <td></td>\n",
       "      <td>us ftc issues warning to franchisors over unfa...</td>\n",
       "      <td>(marketscreener.com) a u.s. trade regulator on...</td>\n",
       "      <td>https://www.marketscreener.com/quote/stock/MCD...</td>\n",
       "      <td>2024-07-12T22:41:01+00:00</td>\n",
       "      <td>negative</td>\n",
       "      <td>Business</td>\n",
       "      <td>marketscreenercom u trade regulator fridayanno...</td>\n",
       "    </tr>\n",
       "    <tr>\n",
       "      <th>4</th>\n",
       "      <td>PLANET</td>\n",
       "      <td></td>\n",
       "      <td>rooftop solar's dark side</td>\n",
       "      <td>4.5 million households in the u.s. have solar ...</td>\n",
       "      <td>https://www.npr.org/2024/07/12/1197961036/roof...</td>\n",
       "      <td>2024-07-12T22:28:19+00:00</td>\n",
       "      <td>positive</td>\n",
       "      <td>Business</td>\n",
       "      <td>45 million household u solar panel home custom...</td>\n",
       "    </tr>\n",
       "  </tbody>\n",
       "</table>\n",
       "</div>"
      ],
      "text/plain": [
       "          Source          Author  \\\n",
       "0        stgnews  bridger palmer   \n",
       "1  Zimbabwe Mail  staff reporter   \n",
       "2      4-traders                   \n",
       "3      4-traders                   \n",
       "4         PLANET                   \n",
       "\n",
       "                                               Title  \\\n",
       "0  pine view high teacher wins best in state awar...   \n",
       "1  businesses face financial strain amid liquidit...   \n",
       "2  musk donates to super pac working to elect tru...   \n",
       "3  us ftc issues warning to franchisors over unfa...   \n",
       "4                          rooftop solar's dark side   \n",
       "\n",
       "                                         Description  \\\n",
       "0  st. george — kaitlyn larson, a first-year teac...   \n",
       "1  harare, zimbabwe – local businesses are grappl...   \n",
       "2  (marketscreener.com) billionaire elon musk has...   \n",
       "3  (marketscreener.com) a u.s. trade regulator on...   \n",
       "4  4.5 million households in the u.s. have solar ...   \n",
       "\n",
       "                                                 URL  \\\n",
       "0  https://www.stgeorgeutah.com/news/archive/2024...   \n",
       "1  https://www.thezimbabwemail.com/business/busin...   \n",
       "2  https://www.marketscreener.com/business-leader...   \n",
       "3  https://www.marketscreener.com/quote/stock/MCD...   \n",
       "4  https://www.npr.org/2024/07/12/1197961036/roof...   \n",
       "\n",
       "                Published At Sentiment      Type  \\\n",
       "0  2024-07-12T23:45:25+00:00  positive  Business   \n",
       "1  2024-07-12T22:59:42+00:00   neutral  Business   \n",
       "2  2024-07-12T22:52:55+00:00  positive  Business   \n",
       "3  2024-07-12T22:41:01+00:00  negative  Business   \n",
       "4  2024-07-12T22:28:19+00:00  positive  Business   \n",
       "\n",
       "                                   clean_description  \n",
       "0  st george — kaitlyn larson firstyear teacher p...  \n",
       "1  harare zimbabwe – local business grappling sev...  \n",
       "2  marketscreenercom billionaire elon musk donate...  \n",
       "3  marketscreenercom u trade regulator fridayanno...  \n",
       "4  45 million household u solar panel home custom...  "
      ]
     },
     "execution_count": 78,
     "metadata": {},
     "output_type": "execute_result"
    }
   ],
   "source": [
    "stop_words = set(stopwords.words('english'))\n",
    "lemmatizer = WordNetLemmatizer()\n",
    "punctuations = string.punctuation\n",
    "\n",
    "def preprocess(text):\n",
    "    text = text.lower() #lowercasting\n",
    "    text = text.translate(str.maketrans('','', punctuations)) #remove punctuations\n",
    "    tokens = word_tokenize(text) #tokenizing\n",
    "    tokens = [t for t in tokens if t not in stop_words] #remove stopwords\n",
    "    tokens = [lemmatizer.lemmatize(t) for t in tokens] #lemmatization\n",
    "    return ' '.join(tokens)\n",
    "\n",
    "df['clean_description'] = df['Description'].apply(preprocess)\n",
    "df.head()"
   ]
  },
  {
   "cell_type": "markdown",
   "id": "fabc84c1",
   "metadata": {},
   "source": [
    "# TF - IDF Vectonizer"
   ]
  },
  {
   "cell_type": "markdown",
   "id": "3f1e6135",
   "metadata": {},
   "source": [
    "TF - IDF Vectonizer aims to transform text into numeric.\n",
    "* TF (Term Frequency): How often a word appears in a document\n",
    "* IDF (Inverse Document Frequency): How rarely a word appears in a document (the more rare, the more important)"
   ]
  },
  {
   "cell_type": "code",
   "execution_count": 90,
   "id": "c92b9be0",
   "metadata": {},
   "outputs": [],
   "source": [
    "vectorizer = TfidfVectorizer()\n",
    "X = vectorizer.fit_transform(df['clean_description'])"
   ]
  },
  {
   "cell_type": "code",
   "execution_count": 91,
   "id": "1cf706f4",
   "metadata": {},
   "outputs": [],
   "source": [
    "tfidf = TfidfVectorizer(max_features=5000)\n",
    "X = tfidf.fit_transform(df['clean_description'])"
   ]
  },
  {
   "cell_type": "markdown",
   "id": "40a78473",
   "metadata": {},
   "source": [
    "# Encode Label"
   ]
  },
  {
   "cell_type": "markdown",
   "id": "de1a9272",
   "metadata": {},
   "source": [
    "This step aims to transform label into numeric so the data can be learned by the model"
   ]
  },
  {
   "cell_type": "code",
   "execution_count": 92,
   "id": "5ea39f8e",
   "metadata": {},
   "outputs": [],
   "source": [
    "le = LabelEncoder()\n",
    "y = le.fit_transform(df['Sentiment'])"
   ]
  },
  {
   "cell_type": "markdown",
   "id": "a6cd531f",
   "metadata": {},
   "source": [
    "# Train-Test Split"
   ]
  },
  {
   "cell_type": "code",
   "execution_count": 93,
   "id": "0baa773e",
   "metadata": {},
   "outputs": [
    {
     "name": "stdout",
     "output_type": "stream",
     "text": [
      "x_train:  (2210, 5000)\n",
      "x_test:  (553, 5000)\n"
     ]
    }
   ],
   "source": [
    "x_train, x_test, y_train, y_test = train_test_split(X, y, test_size=0.2,random_state=40)\n",
    "print(f'x_train: ', x_train.shape)\n",
    "print(f'x_test: ', x_test.shape)"
   ]
  },
  {
   "cell_type": "markdown",
   "id": "822ac04c",
   "metadata": {},
   "source": [
    "# Train Model"
   ]
  },
  {
   "cell_type": "code",
   "execution_count": 94,
   "id": "ab33b1c8",
   "metadata": {},
   "outputs": [
    {
     "name": "stdout",
     "output_type": "stream",
     "text": [
      "\n",
      "=== Naive Bayes ===\n",
      "              precision    recall  f1-score   support\n",
      "\n",
      "    negative       0.96      0.27      0.42        88\n",
      "     neutral       0.83      0.35      0.49       138\n",
      "    positive       0.68      0.98      0.80       327\n",
      "\n",
      "    accuracy                           0.71       553\n",
      "   macro avg       0.82      0.53      0.57       553\n",
      "weighted avg       0.76      0.71      0.66       553\n",
      "\n"
     ]
    },
    {
     "name": "stdout",
     "output_type": "stream",
     "text": [
      "\n",
      "=== Logistic Regression ===\n",
      "              precision    recall  f1-score   support\n",
      "\n",
      "    negative       0.87      0.30      0.44        88\n",
      "     neutral       0.88      0.46      0.60       138\n",
      "    positive       0.71      0.98      0.82       327\n",
      "\n",
      "    accuracy                           0.74       553\n",
      "   macro avg       0.82      0.58      0.62       553\n",
      "weighted avg       0.78      0.74      0.71       553\n",
      "\n",
      "\n",
      "=== Random Forest ===\n",
      "              precision    recall  f1-score   support\n",
      "\n",
      "    negative       0.85      0.39      0.53        88\n",
      "     neutral       0.77      0.66      0.71       138\n",
      "    positive       0.77      0.93      0.84       327\n",
      "\n",
      "    accuracy                           0.77       553\n",
      "   macro avg       0.80      0.66      0.69       553\n",
      "weighted avg       0.78      0.77      0.76       553\n",
      "\n",
      "\n",
      "=== SVC ===\n",
      "              precision    recall  f1-score   support\n",
      "\n",
      "    negative       0.76      0.42      0.54        88\n",
      "     neutral       0.83      0.62      0.71       138\n",
      "    positive       0.77      0.95      0.85       327\n",
      "\n",
      "    accuracy                           0.78       553\n",
      "   macro avg       0.79      0.66      0.70       553\n",
      "weighted avg       0.79      0.78      0.77       553\n",
      "\n"
     ]
    }
   ],
   "source": [
    "models_nb = MultinomialNB()\n",
    "models_lr = LogisticRegression(max_iter=1000)\n",
    "models_rf = RandomForestClassifier(n_estimators=100, random_state=40)\n",
    "models_svc = LinearSVC()\n",
    "\n",
    "models ={\n",
    "    'Naive Bayes': models_nb,\n",
    "    'Logistic Regression': models_lr,\n",
    "    'Random Forest': models_rf,\n",
    "    'SVC': models_svc\n",
    "}\n",
    "\n",
    "results ={}\n",
    "\n",
    "for name, model in models.items():\n",
    "    model.fit(x_train, y_train)\n",
    "    y_pred = model.predict(x_test)\n",
    "    \n",
    "    print(f\"\\n=== {name} ===\")\n",
    "    print(classification_report(y_test, y_pred, target_names=le.classes_))\n",
    "    \n",
    "    acc = accuracy_score(y_test, y_pred)\n",
    "    results[name] = acc"
   ]
  },
  {
   "cell_type": "code",
   "execution_count": 95,
   "id": "9c795e8f",
   "metadata": {},
   "outputs": [
    {
     "data": {
      "text/html": [
       "<div>\n",
       "<style scoped>\n",
       "    .dataframe tbody tr th:only-of-type {\n",
       "        vertical-align: middle;\n",
       "    }\n",
       "\n",
       "    .dataframe tbody tr th {\n",
       "        vertical-align: top;\n",
       "    }\n",
       "\n",
       "    .dataframe thead th {\n",
       "        text-align: right;\n",
       "    }\n",
       "</style>\n",
       "<table border=\"1\" class=\"dataframe\">\n",
       "  <thead>\n",
       "    <tr style=\"text-align: right;\">\n",
       "      <th></th>\n",
       "      <th>Model</th>\n",
       "      <th>Accuracy</th>\n",
       "    </tr>\n",
       "  </thead>\n",
       "  <tbody>\n",
       "    <tr>\n",
       "      <th>3</th>\n",
       "      <td>SVC</td>\n",
       "      <td>0.783002</td>\n",
       "    </tr>\n",
       "    <tr>\n",
       "      <th>2</th>\n",
       "      <td>Random Forest</td>\n",
       "      <td>0.773960</td>\n",
       "    </tr>\n",
       "    <tr>\n",
       "      <th>1</th>\n",
       "      <td>Logistic Regression</td>\n",
       "      <td>0.739602</td>\n",
       "    </tr>\n",
       "    <tr>\n",
       "      <th>0</th>\n",
       "      <td>Naive Bayes</td>\n",
       "      <td>0.708861</td>\n",
       "    </tr>\n",
       "  </tbody>\n",
       "</table>\n",
       "</div>"
      ],
      "text/plain": [
       "                 Model  Accuracy\n",
       "3                  SVC  0.783002\n",
       "2        Random Forest  0.773960\n",
       "1  Logistic Regression  0.739602\n",
       "0          Naive Bayes  0.708861"
      ]
     },
     "execution_count": 95,
     "metadata": {},
     "output_type": "execute_result"
    }
   ],
   "source": [
    "results_df = pd.DataFrame(list(results.items()), columns=[\"Model\", \"Accuracy\"])\n",
    "results_df.sort_values(\"Accuracy\", ascending=False)"
   ]
  },
  {
   "cell_type": "code",
   "execution_count": 96,
   "id": "aa29fdb4",
   "metadata": {},
   "outputs": [
    {
     "name": "stdout",
     "output_type": "stream",
     "text": [
      "\n",
      "=== Naive Bayes ===\n",
      "              precision    recall  f1-score   support\n",
      "\n",
      "    negative       0.96      0.27      0.42        88\n",
      "     neutral       0.83      0.35      0.49       138\n",
      "    positive       0.68      0.98      0.80       327\n",
      "\n",
      "    accuracy                           0.71       553\n",
      "   macro avg       0.82      0.53      0.57       553\n",
      "weighted avg       0.76      0.71      0.66       553\n",
      "\n"
     ]
    },
    {
     "data": {
      "text/plain": [
       "<Figure size 500x400 with 0 Axes>"
      ]
     },
     "metadata": {},
     "output_type": "display_data"
    },
    {
     "data": {
      "image/png": "[encoded data removed]",
      "text/plain": [
       "<Figure size 640x480 with 2 Axes>"
      ]
     },
     "metadata": {},
     "output_type": "display_data"
    },
    {
     "name": "stdout",
     "output_type": "stream",
     "text": [
      "\n",
      "=== Logistic Regression ===\n",
      "              precision    recall  f1-score   support\n",
      "\n",
      "    negative       0.87      0.30      0.44        88\n",
      "     neutral       0.88      0.46      0.60       138\n",
      "    positive       0.71      0.98      0.82       327\n",
      "\n",
      "    accuracy                           0.74       553\n",
      "   macro avg       0.82      0.58      0.62       553\n",
      "weighted avg       0.78      0.74      0.71       553\n",
      "\n"
     ]
    },
    {
     "data": {
      "text/plain": [
       "<Figure size 500x400 with 0 Axes>"
      ]
     },
     "metadata": {},
     "output_type": "display_data"
    },
    {
     "data": {
      "image/png": "[encoded data removed]",
      "text/plain": [
       "<Figure size 640x480 with 2 Axes>"
      ]
     },
     "metadata": {},
     "output_type": "display_data"
    },
    {
     "name": "stdout",
     "output_type": "stream",
     "text": [
      "\n",
      "=== Random Forest ===\n",
      "              precision    recall  f1-score   support\n",
      "\n",
      "    negative       0.85      0.39      0.53        88\n",
      "     neutral       0.77      0.66      0.71       138\n",
      "    positive       0.77      0.93      0.84       327\n",
      "\n",
      "    accuracy                           0.77       553\n",
      "   macro avg       0.80      0.66      0.69       553\n",
      "weighted avg       0.78      0.77      0.76       553\n",
      "\n"
     ]
    },
    {
     "data": {
      "text/plain": [
       "<Figure size 500x400 with 0 Axes>"
      ]
     },
     "metadata": {},
     "output_type": "display_data"
    },
    {
     "data": {
      "image/png": "[encoded data removed]",
      "text/plain": [
       "<Figure size 640x480 with 2 Axes>"
      ]
     },
     "metadata": {},
     "output_type": "display_data"
    },
    {
     "name": "stdout",
     "output_type": "stream",
     "text": [
      "\n",
      "=== SVC ===\n",
      "              precision    recall  f1-score   support\n",
      "\n",
      "    negative       0.76      0.42      0.54        88\n",
      "     neutral       0.83      0.62      0.71       138\n",
      "    positive       0.77      0.95      0.85       327\n",
      "\n",
      "    accuracy                           0.78       553\n",
      "   macro avg       0.79      0.66      0.70       553\n",
      "weighted avg       0.79      0.78      0.77       553\n",
      "\n"
     ]
    },
    {
     "data": {
      "text/plain": [
       "<Figure size 500x400 with 0 Axes>"
      ]
     },
     "metadata": {},
     "output_type": "display_data"
    },
    {
     "data": {
      "image/png": "[encoded data removed]",
      "text/plain": [
       "<Figure size 640x480 with 2 Axes>"
      ]
     },
     "metadata": {},
     "output_type": "display_data"
    }
   ],
   "source": [
    "for name, model in models.items():\n",
    "    model.fit(x_train, y_train)\n",
    "    y_pred = model.predict(x_test)\n",
    "\n",
    "    print(f\"\\n=== {name} ===\")\n",
    "    print(classification_report(y_test, y_pred, target_names=le.classes_))\n",
    "    \n",
    "    acc = accuracy_score(y_test, y_pred)\n",
    "    results[name] = acc\n",
    "\n",
    "    # Buat dan tampilkan confusion matrix\n",
    "    cm = confusion_matrix(y_test, y_pred)\n",
    "    disp = ConfusionMatrixDisplay(confusion_matrix=cm, display_labels=le.classes_)\n",
    "    \n",
    "    plt.figure(figsize=(5,4))\n",
    "    disp.plot(cmap=\"Blues\", values_format='d')\n",
    "    plt.title(f\"Confusion Matrix - {name}\")\n",
    "    plt.tight_layout()\n",
    "    plt.show()\n"
   ]
  },
  {
   "cell_type": "markdown",
   "id": "3fe5c298",
   "metadata": {},
   "source": [
    "From the analytics above, Random Forest seems to be the best choice since the difference among each group is not really significant"
   ]
  },
  {
   "cell_type": "markdown",
   "id": "bd1cfe3a",
   "metadata": {},
   "source": [
    "# Model Evaluation"
   ]
  },
  {
   "cell_type": "code",
   "execution_count": 97,
   "id": "04e5e751",
   "metadata": {},
   "outputs": [
    {
     "name": "stdout",
     "output_type": "stream",
     "text": [
      "              precision    recall  f1-score   support\n",
      "\n",
      "    negative       0.85      0.39      0.53        88\n",
      "     neutral       0.77      0.66      0.71       138\n",
      "    positive       0.77      0.93      0.84       327\n",
      "\n",
      "    accuracy                           0.77       553\n",
      "   macro avg       0.80      0.66      0.69       553\n",
      "weighted avg       0.78      0.77      0.76       553\n",
      "\n"
     ]
    }
   ],
   "source": [
    "y_pred = models_rf.predict(x_test)\n",
    "print(classification_report(y_test, y_pred, target_names=le.classes_))"
   ]
  },
  {
   "cell_type": "markdown",
   "id": "69ddd825",
   "metadata": {},
   "source": [
    "# Save Model"
   ]
  },
  {
   "cell_type": "code",
   "execution_count": 99,
   "id": "77a79e26",
   "metadata": {},
   "outputs": [],
   "source": [
    "with open(\"model_sentiment.pkl\", \"wb\") as f:\n",
    "    pickle.dump(models_rf, f)\n",
    "\n",
    "with open(\"vectorizer.pkl\", \"wb\") as f:\n",
    "    pickle.dump(vectorizer, f)\n",
    "\n",
    "with open(\"label_encoder.pkl\", \"wb\") as f:\n",
    "    pickle.dump(le, f)"
   ]
  },
  {
   "cell_type": "markdown",
   "id": "2b92fbcf",
   "metadata": {},
   "source": [
    "# Inference"
   ]
  },
  {
   "cell_type": "code",
   "execution_count": 102,
   "id": "90bafcb7",
   "metadata": {},
   "outputs": [
    {
     "data": {
      "text/html": [
       "<div>\n",
       "<style scoped>\n",
       "    .dataframe tbody tr th:only-of-type {\n",
       "        vertical-align: middle;\n",
       "    }\n",
       "\n",
       "    .dataframe tbody tr th {\n",
       "        vertical-align: top;\n",
       "    }\n",
       "\n",
       "    .dataframe thead th {\n",
       "        text-align: right;\n",
       "    }\n",
       "</style>\n",
       "<table border=\"1\" class=\"dataframe\">\n",
       "  <thead>\n",
       "    <tr style=\"text-align: right;\">\n",
       "      <th></th>\n",
       "      <th>Source</th>\n",
       "      <th>Author</th>\n",
       "      <th>Title</th>\n",
       "      <th>Description</th>\n",
       "      <th>URL</th>\n",
       "      <th>Published At</th>\n",
       "      <th>Sentiment</th>\n",
       "      <th>Type</th>\n",
       "      <th>clean_description</th>\n",
       "    </tr>\n",
       "  </thead>\n",
       "  <tbody>\n",
       "    <tr>\n",
       "      <th>0</th>\n",
       "      <td>stgnews</td>\n",
       "      <td>bridger palmer</td>\n",
       "      <td>pine view high teacher wins best in state awar...</td>\n",
       "      <td>st. george — kaitlyn larson, a first-year teac...</td>\n",
       "      <td>https://www.stgeorgeutah.com/news/archive/2024...</td>\n",
       "      <td>2024-07-12T23:45:25+00:00</td>\n",
       "      <td>positive</td>\n",
       "      <td>Business</td>\n",
       "      <td>st george — kaitlyn larson firstyear teacher p...</td>\n",
       "    </tr>\n",
       "    <tr>\n",
       "      <th>1</th>\n",
       "      <td>Zimbabwe Mail</td>\n",
       "      <td>staff reporter</td>\n",
       "      <td>businesses face financial strain amid liquidit...</td>\n",
       "      <td>harare, zimbabwe – local businesses are grappl...</td>\n",
       "      <td>https://www.thezimbabwemail.com/business/busin...</td>\n",
       "      <td>2024-07-12T22:59:42+00:00</td>\n",
       "      <td>neutral</td>\n",
       "      <td>Business</td>\n",
       "      <td>harare zimbabwe – local business grappling sev...</td>\n",
       "    </tr>\n",
       "    <tr>\n",
       "      <th>2</th>\n",
       "      <td>4-traders</td>\n",
       "      <td></td>\n",
       "      <td>musk donates to super pac working to elect tru...</td>\n",
       "      <td>(marketscreener.com) billionaire elon musk has...</td>\n",
       "      <td>https://www.marketscreener.com/business-leader...</td>\n",
       "      <td>2024-07-12T22:52:55+00:00</td>\n",
       "      <td>positive</td>\n",
       "      <td>Business</td>\n",
       "      <td>marketscreenercom billionaire elon musk donate...</td>\n",
       "    </tr>\n",
       "    <tr>\n",
       "      <th>3</th>\n",
       "      <td>4-traders</td>\n",
       "      <td></td>\n",
       "      <td>us ftc issues warning to franchisors over unfa...</td>\n",
       "      <td>(marketscreener.com) a u.s. trade regulator on...</td>\n",
       "      <td>https://www.marketscreener.com/quote/stock/MCD...</td>\n",
       "      <td>2024-07-12T22:41:01+00:00</td>\n",
       "      <td>negative</td>\n",
       "      <td>Business</td>\n",
       "      <td>marketscreenercom u trade regulator fridayanno...</td>\n",
       "    </tr>\n",
       "    <tr>\n",
       "      <th>4</th>\n",
       "      <td>PLANET</td>\n",
       "      <td></td>\n",
       "      <td>rooftop solar's dark side</td>\n",
       "      <td>4.5 million households in the u.s. have solar ...</td>\n",
       "      <td>https://www.npr.org/2024/07/12/1197961036/roof...</td>\n",
       "      <td>2024-07-12T22:28:19+00:00</td>\n",
       "      <td>positive</td>\n",
       "      <td>Business</td>\n",
       "      <td>45 million household u solar panel home custom...</td>\n",
       "    </tr>\n",
       "    <tr>\n",
       "      <th>...</th>\n",
       "      <td>...</td>\n",
       "      <td>...</td>\n",
       "      <td>...</td>\n",
       "      <td>...</td>\n",
       "      <td>...</td>\n",
       "      <td>...</td>\n",
       "      <td>...</td>\n",
       "      <td>...</td>\n",
       "      <td>...</td>\n",
       "    </tr>\n",
       "    <tr>\n",
       "      <th>2795</th>\n",
       "      <td>etfdailynews</td>\n",
       "      <td>marketbeat news</td>\n",
       "      <td>arrow electronics, inc. (nyse:arw) shares purc...</td>\n",
       "      <td>qrg capital management inc. increased its stak...</td>\n",
       "      <td>https://www.etfdailynews.com/2024/07/18/arrow-...</td>\n",
       "      <td>2024-07-18T14:36:45+00:00</td>\n",
       "      <td>positive</td>\n",
       "      <td>Technology</td>\n",
       "      <td>qrg capital management inc increased stake sha...</td>\n",
       "    </tr>\n",
       "    <tr>\n",
       "      <th>2796</th>\n",
       "      <td>etfdailynews</td>\n",
       "      <td>marketbeat news</td>\n",
       "      <td>3,120 shares in nice ltd. (nasdaq:nice) bought...</td>\n",
       "      <td>qrg capital management inc. bought a new posit...</td>\n",
       "      <td>https://www.etfdailynews.com/2024/07/18/3120-s...</td>\n",
       "      <td>2024-07-18T14:36:44+00:00</td>\n",
       "      <td>positive</td>\n",
       "      <td>Technology</td>\n",
       "      <td>qrg capital management inc bought new position...</td>\n",
       "    </tr>\n",
       "    <tr>\n",
       "      <th>2797</th>\n",
       "      <td>etfdailynews</td>\n",
       "      <td>marketbeat news</td>\n",
       "      <td>qrg capital management inc. has $857,000 stock...</td>\n",
       "      <td>qrg capital management inc. boosted its stake ...</td>\n",
       "      <td>https://www.etfdailynews.com/2024/07/18/qrg-ca...</td>\n",
       "      <td>2024-07-18T14:36:43+00:00</td>\n",
       "      <td>positive</td>\n",
       "      <td>Technology</td>\n",
       "      <td>qrg capital management inc boosted stake akama...</td>\n",
       "    </tr>\n",
       "    <tr>\n",
       "      <th>2798</th>\n",
       "      <td>finanznachrichten</td>\n",
       "      <td></td>\n",
       "      <td>biotechnology market: surging investments and ...</td>\n",
       "      <td>westford, mass., july 18, 2024 /prnewswire/ --...</td>\n",
       "      <td>https://www.finanznachrichten.de/nachrichten-2...</td>\n",
       "      <td>2024-07-18T14:36:00+00:00</td>\n",
       "      <td>neutral</td>\n",
       "      <td>Technology</td>\n",
       "      <td>westford mass july 18 2024 prnewswire accordin...</td>\n",
       "    </tr>\n",
       "    <tr>\n",
       "      <th>2799</th>\n",
       "      <td>etfdailynews</td>\n",
       "      <td>marketbeat news</td>\n",
       "      <td>qrg capital management inc. sells 1,665 shares...</td>\n",
       "      <td>qrg capital management inc. reduced its holdin...</td>\n",
       "      <td>https://www.etfdailynews.com/2024/07/18/qrg-ca...</td>\n",
       "      <td>2024-07-18T14:32:46+00:00</td>\n",
       "      <td>positive</td>\n",
       "      <td>Technology</td>\n",
       "      <td>qrg capital management inc reduced holding sha...</td>\n",
       "    </tr>\n",
       "  </tbody>\n",
       "</table>\n",
       "<p>2763 rows × 9 columns</p>\n",
       "</div>"
      ],
      "text/plain": [
       "                 Source           Author  \\\n",
       "0               stgnews   bridger palmer   \n",
       "1         Zimbabwe Mail   staff reporter   \n",
       "2             4-traders                    \n",
       "3             4-traders                    \n",
       "4                PLANET                    \n",
       "...                 ...              ...   \n",
       "2795       etfdailynews  marketbeat news   \n",
       "2796       etfdailynews  marketbeat news   \n",
       "2797       etfdailynews  marketbeat news   \n",
       "2798  finanznachrichten                    \n",
       "2799       etfdailynews  marketbeat news   \n",
       "\n",
       "                                                  Title  \\\n",
       "0     pine view high teacher wins best in state awar...   \n",
       "1     businesses face financial strain amid liquidit...   \n",
       "2     musk donates to super pac working to elect tru...   \n",
       "3     us ftc issues warning to franchisors over unfa...   \n",
       "4                             rooftop solar's dark side   \n",
       "...                                                 ...   \n",
       "2795  arrow electronics, inc. (nyse:arw) shares purc...   \n",
       "2796  3,120 shares in nice ltd. (nasdaq:nice) bought...   \n",
       "2797  qrg capital management inc. has $857,000 stock...   \n",
       "2798  biotechnology market: surging investments and ...   \n",
       "2799  qrg capital management inc. sells 1,665 shares...   \n",
       "\n",
       "                                            Description  \\\n",
       "0     st. george — kaitlyn larson, a first-year teac...   \n",
       "1     harare, zimbabwe – local businesses are grappl...   \n",
       "2     (marketscreener.com) billionaire elon musk has...   \n",
       "3     (marketscreener.com) a u.s. trade regulator on...   \n",
       "4     4.5 million households in the u.s. have solar ...   \n",
       "...                                                 ...   \n",
       "2795  qrg capital management inc. increased its stak...   \n",
       "2796  qrg capital management inc. bought a new posit...   \n",
       "2797  qrg capital management inc. boosted its stake ...   \n",
       "2798  westford, mass., july 18, 2024 /prnewswire/ --...   \n",
       "2799  qrg capital management inc. reduced its holdin...   \n",
       "\n",
       "                                                    URL  \\\n",
       "0     https://www.stgeorgeutah.com/news/archive/2024...   \n",
       "1     https://www.thezimbabwemail.com/business/busin...   \n",
       "2     https://www.marketscreener.com/business-leader...   \n",
       "3     https://www.marketscreener.com/quote/stock/MCD...   \n",
       "4     https://www.npr.org/2024/07/12/1197961036/roof...   \n",
       "...                                                 ...   \n",
       "2795  https://www.etfdailynews.com/2024/07/18/arrow-...   \n",
       "2796  https://www.etfdailynews.com/2024/07/18/3120-s...   \n",
       "2797  https://www.etfdailynews.com/2024/07/18/qrg-ca...   \n",
       "2798  https://www.finanznachrichten.de/nachrichten-2...   \n",
       "2799  https://www.etfdailynews.com/2024/07/18/qrg-ca...   \n",
       "\n",
       "                   Published At Sentiment        Type  \\\n",
       "0     2024-07-12T23:45:25+00:00  positive    Business   \n",
       "1     2024-07-12T22:59:42+00:00   neutral    Business   \n",
       "2     2024-07-12T22:52:55+00:00  positive    Business   \n",
       "3     2024-07-12T22:41:01+00:00  negative    Business   \n",
       "4     2024-07-12T22:28:19+00:00  positive    Business   \n",
       "...                         ...       ...         ...   \n",
       "2795  2024-07-18T14:36:45+00:00  positive  Technology   \n",
       "2796  2024-07-18T14:36:44+00:00  positive  Technology   \n",
       "2797  2024-07-18T14:36:43+00:00  positive  Technology   \n",
       "2798  2024-07-18T14:36:00+00:00   neutral  Technology   \n",
       "2799  2024-07-18T14:32:46+00:00  positive  Technology   \n",
       "\n",
       "                                      clean_description  \n",
       "0     st george — kaitlyn larson firstyear teacher p...  \n",
       "1     harare zimbabwe – local business grappling sev...  \n",
       "2     marketscreenercom billionaire elon musk donate...  \n",
       "3     marketscreenercom u trade regulator fridayanno...  \n",
       "4     45 million household u solar panel home custom...  \n",
       "...                                                 ...  \n",
       "2795  qrg capital management inc increased stake sha...  \n",
       "2796  qrg capital management inc bought new position...  \n",
       "2797  qrg capital management inc boosted stake akama...  \n",
       "2798  westford mass july 18 2024 prnewswire accordin...  \n",
       "2799  qrg capital management inc reduced holding sha...  \n",
       "\n",
       "[2763 rows x 9 columns]"
      ]
     },
     "execution_count": 102,
     "metadata": {},
     "output_type": "execute_result"
    }
   ],
   "source": [
    "df"
   ]
  },
  {
   "cell_type": "code",
   "execution_count": 101,
   "id": "23beedf1",
   "metadata": {},
   "outputs": [],
   "source": [
    "def predict_sentiment(text):\n",
    "    text = preprocess(text)\n",
    "    vec = vectorizer.transform([text])\n",
    "    pred = models_lr.predict(vec)\n",
    "    return le.inverse_transform(pred)[0]\n",
    "\n",
    "# Contoh\n",
    "# predict_sentiment(\"cool\")\n"
   ]
  }
 ],
 "metadata": {
  "kernelspec": {
   "display_name": "base",
   "language": "python",
   "name": "python3"
  },
  "language_info": {
   "codemirror_mode": {
    "name": "ipython",
    "version": 3
   },
   "file_extension": ".py",
   "mimetype": "text/x-python",
   "name": "python",
   "nbconvert_exporter": "python",
   "pygments_lexer": "ipython3",
   "version": "3.9.21"
  }
 },
 "nbformat": 4,
 "nbformat_minor": 5
}
